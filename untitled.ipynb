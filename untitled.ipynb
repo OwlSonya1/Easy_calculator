{
  "nbformat": 4,
  "nbformat_minor": 0,
  "metadata": {
    "colab": {
      "provenance": []
    },
    "kernelspec": {
      "name": "python3",
      "display_name": "Python 3"
    },
    "language_info": {
      "name": "python"
    }
  },
  "cells": [
    {
      "cell_type": "code",
      "execution_count": null,
      "metadata": {
        "id": "MCctTqtkXKA1"
      },
      "outputs": [],
      "source": [
        #Вводим значения a, b и c
        "a = input ('Введите значение: ')\n",
        "operation = input ('Введите знак: ')\n",
        "b = input ('Введите значение: ')\n",
        "c = input ('Введите значение: ')"
      ]
    },
    {
      "cell_type": "code",
      "source": [
        #Проверка того, какая операция выполняется и вычисления
        "if operation == \"-\":\n",
        "  if a == \"x\":\n",
        "    answer = int(c)+int(b)\n",
        "    print (answer, 'значение x')\n",
        "  if b == \"x\":\n",
        "    answer = int(a)-int(c)\n",
        "    print (answer, 'значение x')\n",
        "  if c == \"x\":\n",
        "    answer = int(a)-int(b)\n",
        "    print (answer, 'значение x')\n",
        "if operation == \"+\":\n",
        "  if a == \"x\":\n",
        "    answer = int(c)-int(b)\n",
        "    print (answer, 'значение x')\n",
        "  if b == \"x\":\n",
        "    answer = int(c)-int(a)\n",
        "    print (answer, 'значение x')\n",
        "  if c == \"x\":\n",
        "    answer = int(a)+int(b)\n",
        "    print (answer, 'значение x')\n",
        "if operation == \"*\":\n",
        "  if a == \"x\":\n",
        "    answer = int(c)/int(b)\n",
        "    print (answer, 'значение x')\n",
        "  if b == \"x\":\n",
        "    answer = int(c)/int(a)\n",
        "    print (answer, 'значение x')\n",
        "  if c == \"x\":\n",
        "    answer = int(a)*int(b)\n",
        "    print (answer, 'значение x')\n",
        "if operation == \"/\":\n",
        "  if a == \"x\":\n",
        "    answer = int(c)*int(b)\n",
        "    print (answer, 'значение x')\n",
        "  if b == \"x\":\n",
        "    answer = int(a)/int(c)\n",
        "    print (answer, 'значение x')\n",
        "  if c == \"x\":\n",
        "    answer = int(a)/int(b)\n",
        "    print (answer, 'значение x')"
      ],
      "metadata": {
        "id": "lEZVvDizpS2v"
      },
      "execution_count": null,
      "outputs": []
    }
  ]
}
